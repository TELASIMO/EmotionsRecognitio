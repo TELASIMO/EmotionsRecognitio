{
 "cells": [
  {
   "cell_type": "code",
   "execution_count": 1,
   "id": "11328c65",
   "metadata": {},
   "outputs": [],
   "source": [
    "#  lstm model\n",
    "import tensorflow.compat.v2 as tf\n",
    "\n",
    "from tensorflow.python.framework import ops\n",
    "from tensorflow.keras.models import Sequential\n",
    "from tensorflow.keras.layers import Dropout\n",
    "from tensorflow.keras.layers import LSTM\n",
    "from tensorflow.keras import optimizers\n",
    "from tensorflow.keras import losses\n",
    "from tensorflow.keras.layers import TimeDistributed\n",
    "from tensorflow.keras.layers import Dense,Dropout,Activation,Flatten,Lambda, Conv2D, MaxPooling2D, Conv1D, MaxPooling1D\n"
   ]
  },
  {
   "cell_type": "code",
   "execution_count": 2,
   "id": "a523759c",
   "metadata": {},
   "outputs": [
    {
     "ename": "NameError",
     "evalue": "name 'features' is not defined",
     "output_type": "error",
     "traceback": [
      "\u001b[0;31m---------------------------------------------------------------------------\u001b[0m",
      "\u001b[0;31mNameError\u001b[0m                                 Traceback (most recent call last)",
      "\u001b[0;32m<ipython-input-2-5a4789c1258e>\u001b[0m in \u001b[0;36m<module>\u001b[0;34m\u001b[0m\n\u001b[1;32m      1\u001b[0m \u001b[0;32mfrom\u001b[0m \u001b[0msklearn\u001b[0m\u001b[0;34m.\u001b[0m\u001b[0mmodel_selection\u001b[0m \u001b[0;32mimport\u001b[0m \u001b[0mtrain_test_split\u001b[0m\u001b[0;34m\u001b[0m\u001b[0;34m\u001b[0m\u001b[0m\n\u001b[0;32m----> 2\u001b[0;31m \u001b[0mX_train\u001b[0m\u001b[0;34m,\u001b[0m \u001b[0mX_test\u001b[0m\u001b[0;34m,\u001b[0m \u001b[0my_train\u001b[0m\u001b[0;34m,\u001b[0m \u001b[0my_test\u001b[0m \u001b[0;34m=\u001b[0m \u001b[0mtrain_test_split\u001b[0m\u001b[0;34m(\u001b[0m\u001b[0mfeatures\u001b[0m\u001b[0;34m,\u001b[0m \u001b[0mtargets\u001b[0m\u001b[0;34m,\u001b[0m \u001b[0mtest_size\u001b[0m\u001b[0;34m=\u001b[0m\u001b[0;36m0.25\u001b[0m\u001b[0;34m)\u001b[0m\u001b[0;34m\u001b[0m\u001b[0;34m\u001b[0m\u001b[0m\n\u001b[0m\u001b[1;32m      3\u001b[0m \u001b[0mprint\u001b[0m\u001b[0;34m(\u001b[0m\u001b[0mX_train\u001b[0m\u001b[0;34m.\u001b[0m\u001b[0mshape\u001b[0m\u001b[0;34m,\u001b[0m \u001b[0mX_test\u001b[0m\u001b[0;34m.\u001b[0m\u001b[0mshape\u001b[0m\u001b[0;34m)\u001b[0m\u001b[0;34m\u001b[0m\u001b[0;34m\u001b[0m\u001b[0m\n\u001b[1;32m      4\u001b[0m \u001b[0mprint\u001b[0m\u001b[0;34m(\u001b[0m\u001b[0my_train\u001b[0m\u001b[0;34m.\u001b[0m\u001b[0mshape\u001b[0m\u001b[0;34m,\u001b[0m \u001b[0my_test\u001b[0m\u001b[0;34m.\u001b[0m\u001b[0mshape\u001b[0m\u001b[0;34m)\u001b[0m\u001b[0;34m\u001b[0m\u001b[0;34m\u001b[0m\u001b[0m\n",
      "\u001b[0;31mNameError\u001b[0m: name 'features' is not defined"
     ]
    }
   ],
   "source": [
    "from sklearn.model_selection import train_test_split\n",
    "X_train, X_test, y_train, y_test = train_test_split(features, targets, test_size=0.25)\n",
    "print(X_train.shape, X_test.shape)\n",
    "print(y_train.shape, y_test.shape)"
   ]
  },
  {
   "cell_type": "code",
   "execution_count": null,
   "id": "97953cca",
   "metadata": {},
   "outputs": [],
   "source": [
    "# define model\n",
    "model = Sequential()\n",
    "\n",
    "#dtype=\"float64\"\n",
    "#input_layer = keras.layers.Input(shape=(10, 5), dtype=dtype)\n",
    "\n",
    "model.add(Conv1D(32, 64 , padding='same', input_shape=(80, 20), activation = \"relu\"))\n",
    "model.add(MaxPooling1D(2, strides=2))\n",
    "\n",
    "model.add(Conv1D(64, 128 , padding='same'))\n",
    "model.add(MaxPooling1D(2, strides=2))\n",
    "\n",
    "model.add(Conv1D(64, 128 , padding='same'))\n",
    "model.add(MaxPooling1D(2, strides=2))\n",
    "model.add(TimeDistributed(Dropout(0.5)))\n",
    "\n",
    "model.add(LSTM(32,  return_sequences=True))\n",
    "model.add(Dropout(0.5))\n",
    "model.add(LSTM(64,  return_sequences=True))\n",
    "model.add(Dropout(0.5))\n",
    "model.add(LSTM(128,  return_sequences=False))\n",
    "model.add(Dropout(0.5))\n",
    "\n",
    "model.add(Dense(60))\n",
    "model.add(Dense(50))\n",
    "model.add(Dense(30))\n",
    "model.add(Dense(10, activation='softmax'))\n",
    "\n",
    "\n",
    "#opt = optimizers.Adam(lr=0.01) \n",
    "#opt = optimizers.SGD()\n",
    "#opt = optimizers.RMSprop()\n",
    "#opt = optimizers.Adagrad()\n",
    "#opt = optimizers.Adadelta()\n",
    "opt = optimizers.Adamax(lr=0.001)\n",
    "#opt = optimizers.Nadam()\n",
    "\n",
    "loss = losses.SparseCategoricalCrossentropy()\n",
    "\n",
    "model.compile(loss=loss, optimizer=opt, metrics=['accuracy'])\n",
    "\n",
    "model.summary()"
   ]
  },
  {
   "cell_type": "code",
   "execution_count": null,
   "id": "f9472b7f",
   "metadata": {},
   "outputs": [],
   "source": [
    "history = model.fit(features, targets, epochs=5,  batch_size=20, validation_split=0.25)"
   ]
  },
  {
   "cell_type": "code",
   "execution_count": null,
   "id": "982e8d36",
   "metadata": {},
   "outputs": [],
   "source": [
    "import matplotlib.pyplot as plt\n",
    "\n",
    "loss_curve = history.history[\"loss\"]\n",
    "acc_curve = history.history[\"accuracy\"]\n",
    "\n",
    "# loss_val_curve = history.history[\"val_loss\"]\n",
    "# acc_val_curve = history.history[\"val_accuracy\"]\n",
    "\n",
    "plt.plot(loss_curve, label=\"Train\",  marker=11)\n",
    "# plt.plot(loss_val_curve, label=\"Val\",  marker=10)\n",
    "plt.legend(loc=\"upper left\")\n",
    "plt.title(\"loss\")\n",
    "plt.show()\n",
    "\n",
    "plt.plot(acc_curve, label=\"Train\",  marker=11)\n",
    "# plt.plot(acc_val_curve, label=\"Val\",  marker=10)\n",
    "plt.legend(loc=\"upper left\")\n",
    "plt.title(\"Accuracy\")\n",
    "plt.show()"
   ]
  }
 ],
 "metadata": {
  "kernelspec": {
   "display_name": "Python 3",
   "language": "python",
   "name": "python3"
  },
  "language_info": {
   "codemirror_mode": {
    "name": "ipython",
    "version": 3
   },
   "file_extension": ".py",
   "mimetype": "text/x-python",
   "name": "python",
   "nbconvert_exporter": "python",
   "pygments_lexer": "ipython3",
   "version": "3.8.8"
  }
 },
 "nbformat": 4,
 "nbformat_minor": 5
}
